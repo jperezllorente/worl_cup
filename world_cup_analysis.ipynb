{
 "cells": [
  {
   "cell_type": "code",
   "execution_count": 3,
   "id": "50829823",
   "metadata": {},
   "outputs": [],
   "source": [
    "import pandas as pd\n",
    "import regex as re\n",
    "import numpy as np"
   ]
  },
  {
   "cell_type": "code",
   "execution_count": 4,
   "id": "ab2bc8b0",
   "metadata": {},
   "outputs": [],
   "source": [
    "groups_22 = pd.read_csv('2022_world_cup_groups.csv')"
   ]
  },
  {
   "cell_type": "code",
   "execution_count": 5,
   "id": "069b4a3f",
   "metadata": {},
   "outputs": [],
   "source": [
    "matches_22 = pd.read_csv('2022_world_cup_matches.csv')"
   ]
  },
  {
   "cell_type": "code",
   "execution_count": 6,
   "id": "4c5ceff1",
   "metadata": {},
   "outputs": [],
   "source": [
    "data_dict = pd.read_csv('data_dictionary.csv') ## -> fields description"
   ]
  },
  {
   "cell_type": "code",
   "execution_count": 188,
   "id": "956f6b42",
   "metadata": {},
   "outputs": [],
   "source": [
    "international_matches = pd.read_csv('international_matches.csv')\n",
    "international_matches.drop(columns={'ID'}, inplace= True)\n",
    "international_matches.isnull().sum() #Win conditions have null values when matches have ended normally\n",
    "international_matches['Win Conditions'] = international_matches['Win Conditions'].fillna('normal ending')"
   ]
  },
  {
   "cell_type": "code",
   "execution_count": 189,
   "id": "bbe4811c",
   "metadata": {},
   "outputs": [],
   "source": [
    "international_matches.rename(columns={\"Tournament\":\"Stage\",\"Home Stadium\":\"Host Team\"},inplace = True)"
   ]
  },
  {
   "cell_type": "code",
   "execution_count": 190,
   "id": "799e2af5",
   "metadata": {},
   "outputs": [],
   "source": [
    "col_list = list(international_matches)"
   ]
  },
  {
   "cell_type": "code",
   "execution_count": 191,
   "id": "f0746dc4",
   "metadata": {},
   "outputs": [],
   "source": [
    "international_matches = international_matches.reindex(columns=['Date','Stage','Home Team','Home Goals',\n",
    "                                                               'Away Goals','Away Team','Win Conditions','Host Team'])"
   ]
  },
  {
   "cell_type": "code",
   "execution_count": 192,
   "id": "ec0545fe",
   "metadata": {},
   "outputs": [],
   "source": [
    "world_cup_matches = pd.read_csv('world_cup_matches.csv')\n",
    "world_cup_matches.drop(columns={'ID'}, inplace= True)\n",
    "world_cup_matches.isnull().sum() #Win conditions have null values when matches have ended normally\n",
    "world_cup_matches['Win Conditions'] = world_cup_matches['Win Conditions'].fillna('normal ending')"
   ]
  },
  {
   "cell_type": "code",
   "execution_count": 193,
   "id": "cb2d3736",
   "metadata": {},
   "outputs": [],
   "source": [
    "world_cup_matches.drop(columns={'Year'},inplace=True)"
   ]
  },
  {
   "cell_type": "code",
   "execution_count": 194,
   "id": "bed122e1",
   "metadata": {},
   "outputs": [],
   "source": [
    "history_matches = pd.concat([international_matches, world_cup_matches], ignore_index=True)"
   ]
  },
  {
   "cell_type": "code",
   "execution_count": 195,
   "id": "65299652",
   "metadata": {},
   "outputs": [
    {
     "data": {
      "text/html": [
       "<div>\n",
       "<style scoped>\n",
       "    .dataframe tbody tr th:only-of-type {\n",
       "        vertical-align: middle;\n",
       "    }\n",
       "\n",
       "    .dataframe tbody tr th {\n",
       "        vertical-align: top;\n",
       "    }\n",
       "\n",
       "    .dataframe thead th {\n",
       "        text-align: right;\n",
       "    }\n",
       "</style>\n",
       "<table border=\"1\" class=\"dataframe\">\n",
       "  <thead>\n",
       "    <tr style=\"text-align: right;\">\n",
       "      <th></th>\n",
       "      <th>Date</th>\n",
       "      <th>Stage</th>\n",
       "      <th>Home Team</th>\n",
       "      <th>Home Goals</th>\n",
       "      <th>Away Goals</th>\n",
       "      <th>Away Team</th>\n",
       "      <th>Win Conditions</th>\n",
       "      <th>Host Team</th>\n",
       "    </tr>\n",
       "  </thead>\n",
       "  <tbody>\n",
       "    <tr>\n",
       "      <th>0</th>\n",
       "      <td>1872-11-30</td>\n",
       "      <td>Friendly</td>\n",
       "      <td>Scotland</td>\n",
       "      <td>0</td>\n",
       "      <td>0</td>\n",
       "      <td>England</td>\n",
       "      <td>normal ending</td>\n",
       "      <td>True</td>\n",
       "    </tr>\n",
       "    <tr>\n",
       "      <th>1</th>\n",
       "      <td>1873-03-08</td>\n",
       "      <td>Friendly</td>\n",
       "      <td>England</td>\n",
       "      <td>4</td>\n",
       "      <td>2</td>\n",
       "      <td>Scotland</td>\n",
       "      <td>normal ending</td>\n",
       "      <td>True</td>\n",
       "    </tr>\n",
       "    <tr>\n",
       "      <th>2</th>\n",
       "      <td>1874-03-07</td>\n",
       "      <td>Friendly</td>\n",
       "      <td>Scotland</td>\n",
       "      <td>2</td>\n",
       "      <td>1</td>\n",
       "      <td>England</td>\n",
       "      <td>normal ending</td>\n",
       "      <td>True</td>\n",
       "    </tr>\n",
       "    <tr>\n",
       "      <th>3</th>\n",
       "      <td>1875-03-06</td>\n",
       "      <td>Friendly</td>\n",
       "      <td>England</td>\n",
       "      <td>2</td>\n",
       "      <td>2</td>\n",
       "      <td>Scotland</td>\n",
       "      <td>normal ending</td>\n",
       "      <td>True</td>\n",
       "    </tr>\n",
       "    <tr>\n",
       "      <th>4</th>\n",
       "      <td>1876-03-04</td>\n",
       "      <td>Friendly</td>\n",
       "      <td>Scotland</td>\n",
       "      <td>3</td>\n",
       "      <td>0</td>\n",
       "      <td>England</td>\n",
       "      <td>normal ending</td>\n",
       "      <td>True</td>\n",
       "    </tr>\n",
       "  </tbody>\n",
       "</table>\n",
       "</div>"
      ],
      "text/plain": [
       "         Date     Stage Home Team  Home Goals  Away Goals Away Team  \\\n",
       "0  1872-11-30  Friendly  Scotland           0           0   England   \n",
       "1  1873-03-08  Friendly   England           4           2  Scotland   \n",
       "2  1874-03-07  Friendly  Scotland           2           1   England   \n",
       "3  1875-03-06  Friendly   England           2           2  Scotland   \n",
       "4  1876-03-04  Friendly  Scotland           3           0   England   \n",
       "\n",
       "  Win Conditions  Host Team  \n",
       "0  normal ending       True  \n",
       "1  normal ending       True  \n",
       "2  normal ending       True  \n",
       "3  normal ending       True  \n",
       "4  normal ending       True  "
      ]
     },
     "execution_count": 195,
     "metadata": {},
     "output_type": "execute_result"
    }
   ],
   "source": [
    "history_matches.head(5)"
   ]
  },
  {
   "cell_type": "markdown",
   "id": "c7d4e47b",
   "metadata": {},
   "source": [
    "## Football History of Spain"
   ]
  },
  {
   "cell_type": "code",
   "execution_count": 53,
   "id": "5053688a",
   "metadata": {},
   "outputs": [
    {
     "name": "stderr",
     "output_type": "stream",
     "text": [
      "C:\\Users\\juanp\\AppData\\Local\\Temp\\ipykernel_18504\\1685220102.py:1: UserWarning: Boolean Series key will be reindexed to match DataFrame index.\n",
      "  spain_matches = international_matches[(history_matches['Home Team']=='Spain') | (history_matches['Away Team']=='Spain')]\n"
     ]
    }
   ],
   "source": [
    "spain_matches = international_matches[(history_matches['Home Team']=='Spain') | (history_matches['Away Team']=='Spain')]"
   ]
  },
  {
   "cell_type": "code",
   "execution_count": 162,
   "id": "81650eba",
   "metadata": {},
   "outputs": [],
   "source": [
    "def win_conditions(row):\n",
    "    if 'penalties' in row['Win Conditions']:\n",
    "        return 'penalties'\n",
    "    else:\n",
    "        return row['Win Conditions']"
   ]
  },
  {
   "cell_type": "code",
   "execution_count": 140,
   "id": "595a1cfb",
   "metadata": {},
   "outputs": [],
   "source": [
    "def home_winner(row):\n",
    "    # This functions will return if Spain either won or lost a match \n",
    "    if row['Home Goals'] > row['Away Goals']:\n",
    "        return 'Win'\n",
    "    elif row['Home Goals'] == row['Away Goals'] and row['Win Conditions'] == 'normal ending':\n",
    "        return 'Draw'\n",
    "    elif row['Home Goals'] == row['Away Goals'] and row['Home Team'] in row['Win Conditions']:\n",
    "        return 'Win'\n",
    "    else:\n",
    "        return 'Loss'"
   ]
  },
  {
   "cell_type": "code",
   "execution_count": 166,
   "id": "9b47030d",
   "metadata": {},
   "outputs": [],
   "source": [
    "def away_winner(row):\n",
    "    if row['Away Goals'] > row['Home Goals']:\n",
    "        return 'Win'\n",
    "    elif row['Home Goals'] == row['Away Goals'] and row['Win Conditions'] == 'normal ending':\n",
    "        return 'Draw'\n",
    "    elif row['Home Goals'] == row['Away Goals'] and row['Away Team'] in row['Win Conditions']:\n",
    "        return 'Win'\n",
    "    else:\n",
    "        return 'Loss'"
   ]
  },
  {
   "cell_type": "code",
   "execution_count": 211,
   "id": "c9f6ec1e",
   "metadata": {},
   "outputs": [],
   "source": [
    "def setting_history_matches(df):\n",
    "    df['win_conditions'] =  df.apply(lambda row: win_conditions(row), axis=1)\n",
    "    df['home_winner'] = df.apply(lambda row: home_winner(row), axis=1)\n",
    "    df['away_winner'] = df.apply(lambda row: away_winner(row), axis=1)\n",
    "    \n",
    "    df = df.drop(columns={'Win Conditions'})\n",
    "    \n",
    "    return df"
   ]
  },
  {
   "cell_type": "code",
   "execution_count": 212,
   "id": "2756bda6",
   "metadata": {},
   "outputs": [],
   "source": [
    "final_df = setting_history_matches(history_matches)"
   ]
  },
  {
   "cell_type": "code",
   "execution_count": 269,
   "id": "c05f54b6",
   "metadata": {},
   "outputs": [],
   "source": [
    "final_df['match'] = final_df['Home Team']+ ' vs ' + final_df['Away Team']"
   ]
  },
  {
   "cell_type": "code",
   "execution_count": 277,
   "id": "70020b63",
   "metadata": {},
   "outputs": [],
   "source": [
    "home = final_df[final_df.columns.difference(['Away Team', 'Away Goals', 'away_winner'])]"
   ]
  },
  {
   "cell_type": "code",
   "execution_count": 278,
   "id": "dac058c2",
   "metadata": {},
   "outputs": [],
   "source": [
    "away = final_df[final_df.columns.difference(['Home Team', 'Home Goals', 'home_winner'])]"
   ]
  },
  {
   "cell_type": "code",
   "execution_count": 279,
   "id": "283e9165",
   "metadata": {},
   "outputs": [],
   "source": [
    "home = home.loc[:, ['Date', 'Stage', 'Home Team', 'Home Goals', 'Host Team', 'home_winner', 'win_conditions', 'match']]\n",
    "home.rename(columns={'Home Team':'Team', 'Home Goals':'Goals', 'home_winner':'Result'}, inplace=True)"
   ]
  },
  {
   "cell_type": "code",
   "execution_count": 280,
   "id": "8f5e863e",
   "metadata": {},
   "outputs": [],
   "source": [
    "away = away.loc[:, ['Date', 'Stage', 'Away Team', 'Away Goals', 'Host Team', 'away_winner', 'win_conditions', 'match']]\n",
    "away.rename(columns={'Away Team':'Team', 'Away Goals':'Goals', 'away_winner':'Result'}, inplace=True)"
   ]
  },
  {
   "cell_type": "code",
   "execution_count": 282,
   "id": "e54e54fa",
   "metadata": {},
   "outputs": [],
   "source": [
    "df = pd.concat([home, away])"
   ]
  },
  {
   "cell_type": "code",
   "execution_count": 334,
   "id": "e883ebe3",
   "metadata": {},
   "outputs": [],
   "source": [
    "merged_df = pd.merge(df, df, left_on=['Date','match'], right_on=['Date','match'])"
   ]
  },
  {
   "cell_type": "code",
   "execution_count": 335,
   "id": "a63da339",
   "metadata": {},
   "outputs": [],
   "source": [
    "all_results = test.drop_duplicates(subset=['Date','match'],keep='last')"
   ]
  },
  {
   "cell_type": "code",
   "execution_count": 336,
   "id": "d091595d",
   "metadata": {},
   "outputs": [],
   "source": [
    "all_results = test[~(test['Team_x'] == test['Team_y'])]"
   ]
  },
  {
   "cell_type": "code",
   "execution_count": 342,
   "id": "feea22e8",
   "metadata": {},
   "outputs": [],
   "source": [
    "final_result = all_results.loc[:,['Date', 'Stage_x', 'Team_x', 'Goals_x', \n",
    "                                  'Team_y', 'Goals_y','Result_x','win_conditions_x','Host Team_x']]"
   ]
  },
  {
   "cell_type": "code",
   "execution_count": 343,
   "id": "9dbb90e8",
   "metadata": {},
   "outputs": [],
   "source": [
    "final_result.rename(columns={'Stage_x':'Stage','Team_x':'Team','Goals_x':'Home Goals',\n",
    "                             'Team_y':'Team Against','Goals_y':'Against Goals', 'Result_x':'Result', \n",
    "                             'win_conditions_x':'Win Conditions','Host Team_x':'Host Team'},inplace=True)"
   ]
  },
  {
   "cell_type": "code",
   "execution_count": 345,
   "id": "162b01bd",
   "metadata": {},
   "outputs": [],
   "source": [
    "final_result.to_csv('C:\\\\Users\\\\juanp\\\\proyectos_varios\\\\world_cup\\\\history_matches.csv')"
   ]
  },
  {
   "cell_type": "code",
   "execution_count": null,
   "id": "13fc4c05",
   "metadata": {},
   "outputs": [],
   "source": []
  }
 ],
 "metadata": {
  "kernelspec": {
   "display_name": "Python 3 (ipykernel)",
   "language": "python",
   "name": "python3"
  },
  "language_info": {
   "codemirror_mode": {
    "name": "ipython",
    "version": 3
   },
   "file_extension": ".py",
   "mimetype": "text/x-python",
   "name": "python",
   "nbconvert_exporter": "python",
   "pygments_lexer": "ipython3",
   "version": "3.11.0"
  }
 },
 "nbformat": 4,
 "nbformat_minor": 5
}
