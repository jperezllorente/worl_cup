{
 "cells": [
  {
   "cell_type": "code",
   "execution_count": 1,
   "id": "50829823",
   "metadata": {},
   "outputs": [],
   "source": [
    "import pandas as pd\n",
    "import regex as re\n",
    "import numpy as np\n",
    "from pandasql import sqldf"
   ]
  },
  {
   "cell_type": "code",
   "execution_count": 13,
   "id": "493b55c8",
   "metadata": {},
   "outputs": [],
   "source": [
    "def win_conditions(row):\n",
    "    if 'penalties' in row['Win Conditions']:\n",
    "        return 'penalties'\n",
    "    else:\n",
    "        return row['Win Conditions']"
   ]
  },
  {
   "cell_type": "code",
   "execution_count": 14,
   "id": "9002f4b4",
   "metadata": {},
   "outputs": [],
   "source": [
    "def home_winner(row):\n",
    "    # This functions will return if Spain either won or lost a match \n",
    "    if row['Home Goals'] > row['Away Goals']:\n",
    "        return 'Win'\n",
    "    elif row['Home Goals'] == row['Away Goals'] and row['Win Conditions'] == 'normal ending':\n",
    "        return 'Draw'\n",
    "    elif row['Home Goals'] == row['Away Goals'] and row['Home Team'] in row['Win Conditions']:\n",
    "        return 'Win'\n",
    "    else:\n",
    "        return 'Loss'"
   ]
  },
  {
   "cell_type": "code",
   "execution_count": 15,
   "id": "dad6f163",
   "metadata": {},
   "outputs": [],
   "source": [
    "def away_winner(row):\n",
    "    if row['Away Goals'] > row['Home Goals']:\n",
    "        return 'Win'\n",
    "    elif row['Home Goals'] == row['Away Goals'] and row['Win Conditions'] == 'normal ending':\n",
    "        return 'Draw'\n",
    "    elif row['Home Goals'] == row['Away Goals'] and row['Away Team'] in row['Win Conditions']:\n",
    "        return 'Win'\n",
    "    else:\n",
    "        return 'Loss'"
   ]
  },
  {
   "cell_type": "code",
   "execution_count": 16,
   "id": "6a037b35",
   "metadata": {},
   "outputs": [],
   "source": [
    "def setting_history_matches(df):\n",
    "    df['win_conditions'] =  df.apply(lambda row: win_conditions(row), axis=1)\n",
    "    df['home_winner'] = df.apply(lambda row: home_winner(row), axis=1)\n",
    "    df['away_winner'] = df.apply(lambda row: away_winner(row), axis=1)\n",
    "    \n",
    "    df = df.drop(columns={'Win Conditions'})\n",
    "    \n",
    "    return df"
   ]
  },
  {
   "cell_type": "code",
   "execution_count": 18,
   "id": "ab2bc8b0",
   "metadata": {},
   "outputs": [],
   "source": [
    "groups_22 = pd.read_csv('data\\\\2022_world_cup_groups.csv')"
   ]
  },
  {
   "cell_type": "code",
   "execution_count": 19,
   "id": "069b4a3f",
   "metadata": {},
   "outputs": [],
   "source": [
    "matches_22 = pd.read_csv('data\\\\2022_world_cup_matches.csv')"
   ]
  },
  {
   "cell_type": "code",
   "execution_count": 187,
   "id": "4c5ceff1",
   "metadata": {},
   "outputs": [],
   "source": [
    "data_dict = pd.read_csv('data_dictionary.csv') ## -> fields description"
   ]
  },
  {
   "cell_type": "code",
   "execution_count": 33,
   "id": "956f6b42",
   "metadata": {},
   "outputs": [],
   "source": [
    "international_matches = pd.read_csv('data\\\\international_matches.csv')\n",
    "international_matches.drop(columns={'ID'}, inplace= True)\n",
    "international_matches.isnull().sum() #Win conditions have null values when matches have ended normally\n",
    "international_matches['Win Conditions'] = international_matches['Win Conditions'].fillna('normal ending')"
   ]
  },
  {
   "cell_type": "code",
   "execution_count": 34,
   "id": "bbe4811c",
   "metadata": {},
   "outputs": [],
   "source": [
    "international_matches.rename(columns={\"Tournament\":\"Stage\",\"Home Stadium\":\"Host Team\"},inplace = True)"
   ]
  },
  {
   "cell_type": "code",
   "execution_count": 45,
   "id": "8bde4f84",
   "metadata": {},
   "outputs": [],
   "source": [
    "international_matches['Tournament']='International Matches'"
   ]
  },
  {
   "cell_type": "code",
   "execution_count": 49,
   "id": "799e2af5",
   "metadata": {},
   "outputs": [],
   "source": [
    "col_list = list(international_matches)"
   ]
  },
  {
   "cell_type": "code",
   "execution_count": 50,
   "id": "f0746dc4",
   "metadata": {},
   "outputs": [],
   "source": [
    "international_matches = international_matches.reindex(columns=['Date','Stage','Home Team','Home Goals',\n",
    "                                                               'Away Goals','Away Team','Win Conditions','Host Team','Tournament'])"
   ]
  },
  {
   "cell_type": "code",
   "execution_count": 2,
   "id": "a1c15d92",
   "metadata": {},
   "outputs": [],
   "source": [
    "world_cup_matches = pd.read_csv('data\\\\world_cup_matches.csv')"
   ]
  },
  {
   "cell_type": "code",
   "execution_count": 55,
   "id": "ec0545fe",
   "metadata": {},
   "outputs": [],
   "source": [
    "world_cup_matches = pd.read_csv('data\\\\world_cup_matches.csv')\n",
    "world_cup_matches.drop(columns={'ID'}, inplace= True)\n",
    "world_cup_matches.isnull().sum() #Win conditions have null values when matches have ended normally\n",
    "world_cup_matches['Win Conditions'] = world_cup_matches['Win Conditions'].fillna('normal ending')"
   ]
  },
  {
   "cell_type": "code",
   "execution_count": 56,
   "id": "cb2d3736",
   "metadata": {},
   "outputs": [],
   "source": [
    "world_cup_matches.drop(columns={'Year'},inplace=True)"
   ]
  },
  {
   "cell_type": "code",
   "execution_count": 57,
   "id": "4980211c",
   "metadata": {},
   "outputs": [],
   "source": [
    "world_cup_matches['Tournament']='World Cup'"
   ]
  },
  {
   "cell_type": "code",
   "execution_count": 58,
   "id": "bed122e1",
   "metadata": {},
   "outputs": [],
   "source": [
    "history_matches = pd.concat([international_matches, world_cup_matches], ignore_index=True)"
   ]
  },
  {
   "cell_type": "code",
   "execution_count": 199,
   "id": "29cb1ce8",
   "metadata": {},
   "outputs": [],
   "source": [
    "def country_vs(df,team_A, team_B):\n",
    "    df = df[((df['Home Team']==team_A) & (df['Away Team']==team_B))\n",
    "                     | ((df['Away Team']==team_A) & (df['Home Team']==team_B))]\n",
    "    return df\n",
    "    "
   ]
  },
  {
   "cell_type": "markdown",
   "id": "c7d4e47b",
   "metadata": {},
   "source": [
    "## Football History of Spain"
   ]
  },
  {
   "cell_type": "code",
   "execution_count": 59,
   "id": "2756bda6",
   "metadata": {},
   "outputs": [],
   "source": [
    "final_df = setting_history_matches(history_matches)"
   ]
  },
  {
   "cell_type": "code",
   "execution_count": 61,
   "id": "c05f54b6",
   "metadata": {},
   "outputs": [],
   "source": [
    "final_df['match'] = final_df['Home Team']+ ' vs ' + final_df['Away Team']"
   ]
  },
  {
   "cell_type": "code",
   "execution_count": 62,
   "id": "70020b63",
   "metadata": {},
   "outputs": [],
   "source": [
    "home = final_df[final_df.columns.difference(['Away Team', 'Away Goals', 'away_winner'])]"
   ]
  },
  {
   "cell_type": "code",
   "execution_count": 63,
   "id": "dac058c2",
   "metadata": {},
   "outputs": [],
   "source": [
    "away = final_df[final_df.columns.difference(['Home Team', 'Home Goals', 'home_winner'])]"
   ]
  },
  {
   "cell_type": "code",
   "execution_count": 64,
   "id": "283e9165",
   "metadata": {},
   "outputs": [],
   "source": [
    "home = home.loc[:, ['Date', 'Stage', 'Home Team', 'Home Goals', 'Host Team', 'home_winner', \n",
    "                    'win_conditions', 'match','Tournament']]\n",
    "home.rename(columns={'Home Team':'Team', 'Home Goals':'Goals', 'home_winner':'Result'}, inplace=True)"
   ]
  },
  {
   "cell_type": "code",
   "execution_count": 65,
   "id": "8f5e863e",
   "metadata": {},
   "outputs": [],
   "source": [
    "away = away.loc[:, ['Date', 'Stage', 'Away Team', 'Away Goals', 'Host Team', 'away_winner',\n",
    "                    'win_conditions', 'match','Tournament']]\n",
    "away.rename(columns={'Away Team':'Team', 'Away Goals':'Goals', 'away_winner':'Result'}, inplace=True)"
   ]
  },
  {
   "cell_type": "code",
   "execution_count": 66,
   "id": "75562b47",
   "metadata": {},
   "outputs": [],
   "source": [
    "df = pd.concat([home,away], ignore_index=True)"
   ]
  },
  {
   "cell_type": "code",
   "execution_count": 67,
   "id": "e883ebe3",
   "metadata": {},
   "outputs": [],
   "source": [
    "merged_df = pd.merge(df, df, left_on=['Date','match'], right_on=['Date','match'])"
   ]
  },
  {
   "cell_type": "code",
   "execution_count": 68,
   "id": "6fa5a0ef",
   "metadata": {},
   "outputs": [],
   "source": [
    "final_result = merged_df[merged_df.Team_x != merged_df.Team_y]"
   ]
  },
  {
   "cell_type": "code",
   "execution_count": 69,
   "id": "2a67e412",
   "metadata": {},
   "outputs": [],
   "source": [
    "x = final_result.loc[:,['Date', 'Stage_x', 'Team_x', 'Goals_x','Result_x','Team_y', 'Goals_y','win_conditions_x','Tournament_x']]"
   ]
  },
  {
   "cell_type": "code",
   "execution_count": 70,
   "id": "b5c636db",
   "metadata": {},
   "outputs": [],
   "source": [
    "x = x.rename(columns ={'Stage_x':'Stage', 'Team_x':'Team', 'Goals_x':'Home Goals', \n",
    "                       'Goals_x':'Home Goals', 'Result_x':'Result', 'Team_y':'Team Against',\n",
    "                      'Goals_y':'Goals Against','win_conditions_x':'Win Conditions','Tournament_x':'Tournament'})"
   ]
  },
  {
   "cell_type": "code",
   "execution_count": 351,
   "id": "d6c4f8f6",
   "metadata": {},
   "outputs": [],
   "source": [
    "x.to_csv('C:\\\\Users\\\\juanp\\\\proyectos_varios\\\\world_cup\\\\history_matches.csv')"
   ]
  },
  {
   "cell_type": "code",
   "execution_count": 142,
   "id": "5a3d9e4e",
   "metadata": {},
   "outputs": [],
   "source": [
    "teams_22 = ['Qatar', 'Ecuador', 'Senegal', 'Netherlands',\n",
    "            'England', 'Iran','United States','Wales',\n",
    "           'Argentina','Saudi Arabia','Mexico','Poland',\n",
    "           'France','Australia','Denmark','Tunisia',\n",
    "           'Spain', 'Costa Rica','Germany','Japan',\n",
    "            'Belgium','Canada', 'Morocco','Croatia',\n",
    "            'Brazil', 'Serbia', 'Switzerland', 'Cameroon',\n",
    "            'Portugal', 'Ghana', 'Uruguay', 'South Korea']"
   ]
  },
  {
   "cell_type": "code",
   "execution_count": 227,
   "id": "28ee37f7",
   "metadata": {},
   "outputs": [],
   "source": [
    "teams_world_cup_22 = x[(x['Team'].isin(teams_22)) & (x['Team Against'].isin(teams_22))]"
   ]
  },
  {
   "cell_type": "markdown",
   "id": "b15fc386",
   "metadata": {},
   "source": [
    "# Analyzing Spains' results "
   ]
  },
  {
   "cell_type": "code",
   "execution_count": 352,
   "id": "a29bf71f",
   "metadata": {},
   "outputs": [],
   "source": [
    "spain = x[x.Team == 'Spain']"
   ]
  },
  {
   "cell_type": "code",
   "execution_count": 275,
   "id": "d5ab721b",
   "metadata": {},
   "outputs": [],
   "source": [
    "def results(df):\n",
    "    df_results = df.groupby([\n",
    "    'Team Against','Result','Tournament','Stage']).agg({'Result':'count'}).rename(columns={'Result':'Matches'}).reset_index()\n",
    "    df_results = df_results.pivot_table('Matches',['Team Against','Tournament','Stage'],'Result', fill_value=0).reset_index()\n",
    "    return df_results"
   ]
  },
  {
   "cell_type": "code",
   "execution_count": 128,
   "id": "5c1cb54d",
   "metadata": {},
   "outputs": [],
   "source": [
    "# s = spain_results.div(spain_results.sum(axis=1),axis=0) --> maybe I can obtain the same result directly in tableau and keep the total"
   ]
  },
  {
   "cell_type": "markdown",
   "id": "b01be480",
   "metadata": {},
   "source": [
    "# How was Spain's performance in previous World Cups?"
   ]
  },
  {
   "cell_type": "code",
   "execution_count": 161,
   "id": "dadf58f6",
   "metadata": {},
   "outputs": [],
   "source": [
    "a = list(world_cup_matches['Stage'].unique())"
   ]
  },
  {
   "cell_type": "code",
   "execution_count": 353,
   "id": "bfd8c7fd",
   "metadata": {},
   "outputs": [],
   "source": [
    "spain_international =spain[~spain['Stage'].isin(a)]"
   ]
  },
  {
   "cell_type": "code",
   "execution_count": 354,
   "id": "7f88de39",
   "metadata": {},
   "outputs": [],
   "source": [
    "spain_wc = spain[spain['Stage'].isin(a)]"
   ]
  },
  {
   "cell_type": "code",
   "execution_count": 355,
   "id": "81320c6c",
   "metadata": {},
   "outputs": [],
   "source": [
    "spain_complete = pd.concat([spain_wc, spain_international],ignore_index=True)"
   ]
  },
  {
   "cell_type": "code",
   "execution_count": 281,
   "id": "33a69456",
   "metadata": {},
   "outputs": [],
   "source": [
    "spain_matches.to_csv('C:\\\\Users\\\\juanp\\\\proyectos_varios\\\\world_cup\\\\spain_matches.csv')"
   ]
  },
  {
   "cell_type": "code",
   "execution_count": 93,
   "id": "dee449a4",
   "metadata": {},
   "outputs": [],
   "source": [
    "x = pd.read_csv('data\\\\spain_matches.csv')"
   ]
  },
  {
   "cell_type": "code",
   "execution_count": 94,
   "id": "04f709cd",
   "metadata": {},
   "outputs": [],
   "source": [
    "x = x.drop(columns={'Unnamed: 0'})"
   ]
  },
  {
   "cell_type": "code",
   "execution_count": 95,
   "id": "f7624fa8",
   "metadata": {},
   "outputs": [],
   "source": [
    "x = x.groupby('Team Against').agg({'Draw':'sum','Win':'sum','Loss':'sum'})"
   ]
  },
  {
   "cell_type": "code",
   "execution_count": 97,
   "id": "4dbed55d",
   "metadata": {},
   "outputs": [],
   "source": [
    "x['Matches'] = x.sum(axis=1)"
   ]
  },
  {
   "cell_type": "code",
   "execution_count": 99,
   "id": "77a89104",
   "metadata": {},
   "outputs": [],
   "source": [
    "x.to_csv('C:\\\\Users\\\\juanp\\\\proyectos_varios\\\\world_cup\\\\spain_matches_totals.csv')"
   ]
  },
  {
   "cell_type": "code",
   "execution_count": 6,
   "id": "7e72dd9b",
   "metadata": {},
   "outputs": [],
   "source": [
    "x = world_cup_matches "
   ]
  },
  {
   "cell_type": "code",
   "execution_count": 50,
   "id": "7b813612",
   "metadata": {},
   "outputs": [],
   "source": [
    "s = pd.read_csv('data\\\\history_matches.csv')"
   ]
  },
  {
   "cell_type": "code",
   "execution_count": 51,
   "id": "9f74d303",
   "metadata": {},
   "outputs": [],
   "source": [
    "d = pd.read_csv('data\\\\2022_world_cup_groups.csv')"
   ]
  },
  {
   "cell_type": "code",
   "execution_count": 88,
   "id": "133e1a57",
   "metadata": {},
   "outputs": [],
   "source": [
    "teams = pd.merge(s,d,left_on='Team', right_on='Team' )"
   ]
  },
  {
   "cell_type": "code",
   "execution_count": 181,
   "id": "683e29f1",
   "metadata": {},
   "outputs": [],
   "source": [
    "teams['Stage_value'] = np.where(teams['Stage']=='Quarter-finals',3,0)"
   ]
  },
  {
   "cell_type": "code",
   "execution_count": 182,
   "id": "410116f3",
   "metadata": {},
   "outputs": [],
   "source": [
    "teams_ranking = teams.groupby(['Team','Result','FIFA Ranking']).agg({'Result':'count'})"
   ]
  },
  {
   "cell_type": "code",
   "execution_count": 183,
   "id": "0574324a",
   "metadata": {},
   "outputs": [],
   "source": [
    "teams_ranking.rename(columns={'Result':'Results'},inplace=True)"
   ]
  },
  {
   "cell_type": "code",
   "execution_count": 184,
   "id": "7d45c828",
   "metadata": {},
   "outputs": [],
   "source": [
    "teams_ranking = teams_ranking.reset_index()"
   ]
  },
  {
   "cell_type": "code",
   "execution_count": 138,
   "id": "8b929a1f",
   "metadata": {},
   "outputs": [],
   "source": [
    "conditions = [\n",
    "    (teams_ranking['FIFA Ranking'] <= 10),\n",
    "    (teams_ranking['FIFA Ranking'] > 10) & (teams_ranking['FIFA Ranking'] <= 20),\n",
    "    (teams_ranking['FIFA Ranking'] > 20) & (teams_ranking['FIFA Ranking'] <= 40),\n",
    "    (teams_ranking['FIFA Ranking'] > 40),\n",
    "]\n",
    "\n",
    "values = [4,3,2,1]"
   ]
  },
  {
   "cell_type": "code",
   "execution_count": 139,
   "id": "d9e13e53",
   "metadata": {},
   "outputs": [],
   "source": [
    "teams_ranking['Ranking_Value'] = np.select(conditions, values)"
   ]
  },
  {
   "cell_type": "code",
   "execution_count": 140,
   "id": "09cc3c2c",
   "metadata": {},
   "outputs": [],
   "source": [
    "total_matches = teams.groupby('Team').agg({'Result':'count'})"
   ]
  },
  {
   "cell_type": "code",
   "execution_count": 185,
   "id": "e5c517f2",
   "metadata": {},
   "outputs": [],
   "source": [
    "quarters_reacher = teams[['Team','Stage_value']].drop_duplicates(keep='first')"
   ]
  },
  {
   "cell_type": "code",
   "execution_count": 154,
   "id": "52b292b9",
   "metadata": {},
   "outputs": [],
   "source": [
    "df = [teams_ranking, total_matches, quarters_reacher]"
   ]
  },
  {
   "cell_type": "code",
   "execution_count": 189,
   "id": "4f539432",
   "metadata": {},
   "outputs": [],
   "source": [
    "teams_ranking['Quarters_reacher'] = teams_ranking.Team.map(quarters_reacher.set_index('Team')['Stage_value'].to_dict())"
   ]
  },
  {
   "cell_type": "code",
   "execution_count": 195,
   "id": "eb908586",
   "metadata": {},
   "outputs": [],
   "source": [
    "teams_ranking['Matches'] = teams_ranking.Team.map(total_matches['Result'].to_dict())"
   ]
  },
  {
   "cell_type": "code",
   "execution_count": 203,
   "id": "a3e75a1d",
   "metadata": {},
   "outputs": [],
   "source": [
    "teams_ranking.to_csv('C:\\\\Users\\\\juanp\\\\proyectos_varios\\\\world_cup\\\\teams_rankings.csv')"
   ]
  },
  {
   "cell_type": "code",
   "execution_count": 204,
   "id": "3088d6f7",
   "metadata": {},
   "outputs": [
    {
     "data": {
      "text/html": [
       "<div>\n",
       "<style scoped>\n",
       "    .dataframe tbody tr th:only-of-type {\n",
       "        vertical-align: middle;\n",
       "    }\n",
       "\n",
       "    .dataframe tbody tr th {\n",
       "        vertical-align: top;\n",
       "    }\n",
       "\n",
       "    .dataframe thead th {\n",
       "        text-align: right;\n",
       "    }\n",
       "</style>\n",
       "<table border=\"1\" class=\"dataframe\">\n",
       "  <thead>\n",
       "    <tr style=\"text-align: right;\">\n",
       "      <th></th>\n",
       "      <th>Team</th>\n",
       "      <th>Result</th>\n",
       "      <th>FIFA Ranking</th>\n",
       "      <th>Results</th>\n",
       "      <th>Matches</th>\n",
       "      <th>Ranking_value</th>\n",
       "    </tr>\n",
       "  </thead>\n",
       "  <tbody>\n",
       "    <tr>\n",
       "      <th>0</th>\n",
       "      <td>Argentina</td>\n",
       "      <td>Draw</td>\n",
       "      <td>3</td>\n",
       "      <td>233</td>\n",
       "      <td>1010</td>\n",
       "      <td>3</td>\n",
       "    </tr>\n",
       "    <tr>\n",
       "      <th>1</th>\n",
       "      <td>Argentina</td>\n",
       "      <td>Loss</td>\n",
       "      <td>3</td>\n",
       "      <td>219</td>\n",
       "      <td>1010</td>\n",
       "      <td>3</td>\n",
       "    </tr>\n",
       "    <tr>\n",
       "      <th>2</th>\n",
       "      <td>Argentina</td>\n",
       "      <td>Win</td>\n",
       "      <td>3</td>\n",
       "      <td>558</td>\n",
       "      <td>1010</td>\n",
       "      <td>3</td>\n",
       "    </tr>\n",
       "    <tr>\n",
       "      <th>3</th>\n",
       "      <td>Australia</td>\n",
       "      <td>Draw</td>\n",
       "      <td>38</td>\n",
       "      <td>110</td>\n",
       "      <td>536</td>\n",
       "      <td>0</td>\n",
       "    </tr>\n",
       "    <tr>\n",
       "      <th>4</th>\n",
       "      <td>Australia</td>\n",
       "      <td>Loss</td>\n",
       "      <td>38</td>\n",
       "      <td>154</td>\n",
       "      <td>536</td>\n",
       "      <td>0</td>\n",
       "    </tr>\n",
       "    <tr>\n",
       "      <th>...</th>\n",
       "      <td>...</td>\n",
       "      <td>...</td>\n",
       "      <td>...</td>\n",
       "      <td>...</td>\n",
       "      <td>...</td>\n",
       "      <td>...</td>\n",
       "    </tr>\n",
       "    <tr>\n",
       "      <th>91</th>\n",
       "      <td>Uruguay</td>\n",
       "      <td>Loss</td>\n",
       "      <td>14</td>\n",
       "      <td>301</td>\n",
       "      <td>916</td>\n",
       "      <td>3</td>\n",
       "    </tr>\n",
       "    <tr>\n",
       "      <th>92</th>\n",
       "      <td>Uruguay</td>\n",
       "      <td>Win</td>\n",
       "      <td>14</td>\n",
       "      <td>406</td>\n",
       "      <td>916</td>\n",
       "      <td>3</td>\n",
       "    </tr>\n",
       "    <tr>\n",
       "      <th>93</th>\n",
       "      <td>Wales</td>\n",
       "      <td>Draw</td>\n",
       "      <td>19</td>\n",
       "      <td>151</td>\n",
       "      <td>689</td>\n",
       "      <td>3</td>\n",
       "    </tr>\n",
       "    <tr>\n",
       "      <th>94</th>\n",
       "      <td>Wales</td>\n",
       "      <td>Loss</td>\n",
       "      <td>19</td>\n",
       "      <td>317</td>\n",
       "      <td>689</td>\n",
       "      <td>3</td>\n",
       "    </tr>\n",
       "    <tr>\n",
       "      <th>95</th>\n",
       "      <td>Wales</td>\n",
       "      <td>Win</td>\n",
       "      <td>19</td>\n",
       "      <td>221</td>\n",
       "      <td>689</td>\n",
       "      <td>3</td>\n",
       "    </tr>\n",
       "  </tbody>\n",
       "</table>\n",
       "<p>96 rows × 6 columns</p>\n",
       "</div>"
      ],
      "text/plain": [
       "         Team Result  FIFA Ranking  Results  Matches  Ranking_value\n",
       "0   Argentina   Draw             3      233     1010              3\n",
       "1   Argentina   Loss             3      219     1010              3\n",
       "2   Argentina    Win             3      558     1010              3\n",
       "3   Australia   Draw            38      110      536              0\n",
       "4   Australia   Loss            38      154      536              0\n",
       "..        ...    ...           ...      ...      ...            ...\n",
       "91    Uruguay   Loss            14      301      916              3\n",
       "92    Uruguay    Win            14      406      916              3\n",
       "93      Wales   Draw            19      151      689              3\n",
       "94      Wales   Loss            19      317      689              3\n",
       "95      Wales    Win            19      221      689              3\n",
       "\n",
       "[96 rows x 6 columns]"
      ]
     },
     "execution_count": 204,
     "metadata": {},
     "output_type": "execute_result"
    }
   ],
   "source": [
    "teams_ranking"
   ]
  },
  {
   "cell_type": "code",
   "execution_count": null,
   "id": "ff2be1fb",
   "metadata": {},
   "outputs": [],
   "source": []
  }
 ],
 "metadata": {
  "kernelspec": {
   "display_name": "Python 3 (ipykernel)",
   "language": "python",
   "name": "python3"
  },
  "language_info": {
   "codemirror_mode": {
    "name": "ipython",
    "version": 3
   },
   "file_extension": ".py",
   "mimetype": "text/x-python",
   "name": "python",
   "nbconvert_exporter": "python",
   "pygments_lexer": "ipython3",
   "version": "3.11.0"
  }
 },
 "nbformat": 4,
 "nbformat_minor": 5
}
