{
 "cells": [
  {
   "cell_type": "code",
   "execution_count": 1,
   "id": "50829823",
   "metadata": {},
   "outputs": [],
   "source": [
    "import pandas as pd\n",
    "import regex as re\n",
    "import numpy as np"
   ]
  },
  {
   "cell_type": "code",
   "execution_count": 147,
   "id": "493b55c8",
   "metadata": {},
   "outputs": [],
   "source": [
    "def win_conditions(row):\n",
    "    if 'penalties' in row['Win Conditions']:\n",
    "        return 'penalties'\n",
    "    else:\n",
    "        return row['Win Conditions']"
   ]
  },
  {
   "cell_type": "code",
   "execution_count": 148,
   "id": "9002f4b4",
   "metadata": {},
   "outputs": [],
   "source": [
    "def home_winner(row):\n",
    "    # This functions will return if Spain either won or lost a match \n",
    "    if row['Home Goals'] > row['Away Goals']:\n",
    "        return 'Win'\n",
    "    elif row['Home Goals'] == row['Away Goals'] and row['Win Conditions'] == 'normal ending':\n",
    "        return 'Draw'\n",
    "    elif row['Home Goals'] == row['Away Goals'] and row['Home Team'] in row['Win Conditions']:\n",
    "        return 'Win'\n",
    "    else:\n",
    "        return 'Loss'"
   ]
  },
  {
   "cell_type": "code",
   "execution_count": 149,
   "id": "dad6f163",
   "metadata": {},
   "outputs": [],
   "source": [
    "def away_winner(row):\n",
    "    if row['Away Goals'] > row['Home Goals']:\n",
    "        return 'Win'\n",
    "    elif row['Home Goals'] == row['Away Goals'] and row['Win Conditions'] == 'normal ending':\n",
    "        return 'Draw'\n",
    "    elif row['Home Goals'] == row['Away Goals'] and row['Away Team'] in row['Win Conditions']:\n",
    "        return 'Win'\n",
    "    else:\n",
    "        return 'Loss'"
   ]
  },
  {
   "cell_type": "code",
   "execution_count": 150,
   "id": "6a037b35",
   "metadata": {},
   "outputs": [],
   "source": [
    "def setting_history_matches(df):\n",
    "    df['win_conditions'] =  df.apply(lambda row: win_conditions(row), axis=1)\n",
    "    df['home_winner'] = df.apply(lambda row: home_winner(row), axis=1)\n",
    "    df['away_winner'] = df.apply(lambda row: away_winner(row), axis=1)\n",
    "    \n",
    "    df = df.drop(columns={'Win Conditions'})\n",
    "    \n",
    "    return df"
   ]
  },
  {
   "cell_type": "code",
   "execution_count": 40,
   "id": "ab2bc8b0",
   "metadata": {},
   "outputs": [],
   "source": [
    "groups_22 = pd.read_csv('2022_world_cup_groups.csv')"
   ]
  },
  {
   "cell_type": "code",
   "execution_count": 41,
   "id": "069b4a3f",
   "metadata": {},
   "outputs": [],
   "source": [
    "matches_22 = pd.read_csv('2022_world_cup_matches.csv')"
   ]
  },
  {
   "cell_type": "code",
   "execution_count": 42,
   "id": "4c5ceff1",
   "metadata": {},
   "outputs": [],
   "source": [
    "data_dict = pd.read_csv('data_dictionary.csv') ## -> fields description"
   ]
  },
  {
   "cell_type": "code",
   "execution_count": 43,
   "id": "956f6b42",
   "metadata": {},
   "outputs": [],
   "source": [
    "international_matches = pd.read_csv('international_matches.csv')\n",
    "international_matches.drop(columns={'ID'}, inplace= True)\n",
    "international_matches.isnull().sum() #Win conditions have null values when matches have ended normally\n",
    "international_matches['Win Conditions'] = international_matches['Win Conditions'].fillna('normal ending')"
   ]
  },
  {
   "cell_type": "code",
   "execution_count": 44,
   "id": "bbe4811c",
   "metadata": {},
   "outputs": [],
   "source": [
    "international_matches.rename(columns={\"Tournament\":\"Stage\",\"Home Stadium\":\"Host Team\"},inplace = True)"
   ]
  },
  {
   "cell_type": "code",
   "execution_count": 45,
   "id": "799e2af5",
   "metadata": {},
   "outputs": [],
   "source": [
    "col_list = list(international_matches)"
   ]
  },
  {
   "cell_type": "code",
   "execution_count": 46,
   "id": "f0746dc4",
   "metadata": {},
   "outputs": [],
   "source": [
    "international_matches = international_matches.reindex(columns=['Date','Stage','Home Team','Home Goals',\n",
    "                                                               'Away Goals','Away Team','Win Conditions','Host Team'])"
   ]
  },
  {
   "cell_type": "code",
   "execution_count": 47,
   "id": "ec0545fe",
   "metadata": {},
   "outputs": [],
   "source": [
    "world_cup_matches = pd.read_csv('world_cup_matches.csv')\n",
    "world_cup_matches.drop(columns={'ID'}, inplace= True)\n",
    "world_cup_matches.isnull().sum() #Win conditions have null values when matches have ended normally\n",
    "world_cup_matches['Win Conditions'] = world_cup_matches['Win Conditions'].fillna('normal ending')"
   ]
  },
  {
   "cell_type": "code",
   "execution_count": 48,
   "id": "cb2d3736",
   "metadata": {},
   "outputs": [],
   "source": [
    "world_cup_matches.drop(columns={'Year'},inplace=True)"
   ]
  },
  {
   "cell_type": "code",
   "execution_count": 151,
   "id": "2d0064b9",
   "metadata": {},
   "outputs": [],
   "source": [
    "new_wm = setting_history_matches(world_cup_matches)"
   ]
  },
  {
   "cell_type": "code",
   "execution_count": 49,
   "id": "bed122e1",
   "metadata": {},
   "outputs": [],
   "source": [
    "history_matches = pd.concat([international_matches, world_cup_matches], ignore_index=True)"
   ]
  },
  {
   "cell_type": "code",
   "execution_count": 60,
   "id": "29cb1ce8",
   "metadata": {},
   "outputs": [],
   "source": [
    "def country_vs(team_A, team_B):\n",
    "    df = history_matches[((history_matches['Home Team']==team_A) & (history_matches['Away Team']==team_B))\n",
    "                     | ((history_matches['Away Team']==team_A) & (history_matches['Home Team']==team_B))]\n",
    "    return df\n",
    "    "
   ]
  },
  {
   "cell_type": "markdown",
   "id": "c7d4e47b",
   "metadata": {},
   "source": [
    "## Football History of Spain"
   ]
  },
  {
   "cell_type": "code",
   "execution_count": 28,
   "id": "2756bda6",
   "metadata": {},
   "outputs": [],
   "source": [
    "final_df = setting_history_matches(history_matches)"
   ]
  },
  {
   "cell_type": "code",
   "execution_count": 269,
   "id": "c05f54b6",
   "metadata": {},
   "outputs": [],
   "source": [
    "final_df['match'] = final_df['Home Team']+ ' vs ' + final_df['Away Team']"
   ]
  },
  {
   "cell_type": "code",
   "execution_count": 277,
   "id": "70020b63",
   "metadata": {},
   "outputs": [],
   "source": [
    "home = final_df[final_df.columns.difference(['Away Team', 'Away Goals', 'away_winner'])]"
   ]
  },
  {
   "cell_type": "code",
   "execution_count": 278,
   "id": "dac058c2",
   "metadata": {},
   "outputs": [],
   "source": [
    "away = final_df[final_df.columns.difference(['Home Team', 'Home Goals', 'home_winner'])]"
   ]
  },
  {
   "cell_type": "code",
   "execution_count": 279,
   "id": "283e9165",
   "metadata": {},
   "outputs": [],
   "source": [
    "home = home.loc[:, ['Date', 'Stage', 'Home Team', 'Home Goals', 'Host Team', 'home_winner', 'win_conditions', 'match']]\n",
    "home.rename(columns={'Home Team':'Team', 'Home Goals':'Goals', 'home_winner':'Result'}, inplace=True)"
   ]
  },
  {
   "cell_type": "code",
   "execution_count": 280,
   "id": "8f5e863e",
   "metadata": {},
   "outputs": [],
   "source": [
    "away = away.loc[:, ['Date', 'Stage', 'Away Team', 'Away Goals', 'Host Team', 'away_winner', 'win_conditions', 'match']]\n",
    "away.rename(columns={'Away Team':'Team', 'Away Goals':'Goals', 'away_winner':'Result'}, inplace=True)"
   ]
  },
  {
   "cell_type": "code",
   "execution_count": 282,
   "id": "e54e54fa",
   "metadata": {},
   "outputs": [],
   "source": [
    "df = pd.concat([home, away])"
   ]
  },
  {
   "cell_type": "code",
   "execution_count": 334,
   "id": "e883ebe3",
   "metadata": {},
   "outputs": [],
   "source": [
    "merged_df = pd.merge(df, df, left_on=['Date','match'], right_on=['Date','match'])"
   ]
  },
  {
   "cell_type": "code",
   "execution_count": 335,
   "id": "a63da339",
   "metadata": {},
   "outputs": [],
   "source": [
    "all_results = test.drop_duplicates(subset=['Date','match'],keep='last')"
   ]
  },
  {
   "cell_type": "code",
   "execution_count": 336,
   "id": "d091595d",
   "metadata": {},
   "outputs": [],
   "source": [
    "all_results = test[~(test['Team_x'] == test['Team_y'])]"
   ]
  },
  {
   "cell_type": "code",
   "execution_count": 342,
   "id": "feea22e8",
   "metadata": {},
   "outputs": [],
   "source": [
    "final_result = all_results.loc[:,['Date', 'Stage_x', 'Team_x', 'Goals_x', \n",
    "                                  'Team_y', 'Goals_y','Result_x','win_conditions_x','Host Team_x']]"
   ]
  },
  {
   "cell_type": "code",
   "execution_count": 343,
   "id": "9dbb90e8",
   "metadata": {},
   "outputs": [],
   "source": [
    "final_result.rename(columns={'Stage_x':'Stage','Team_x':'Team','Goals_x':'Home Goals',\n",
    "                             'Team_y':'Team Against','Goals_y':'Against Goals', 'Result_x':'Result', \n",
    "                             'win_conditions_x':'Win Conditions','Host Team_x':'Host Team'},inplace=True)"
   ]
  },
  {
   "cell_type": "code",
   "execution_count": null,
   "id": "162b01bd",
   "metadata": {},
   "outputs": [],
   "source": [
    "final_result.to_csv('C:\\\\Users\\\\juanp\\\\proyectos_varios\\\\world_cup\\\\history_matches.csv')"
   ]
  },
  {
   "cell_type": "code",
   "execution_count": 163,
   "id": "30e47488",
   "metadata": {},
   "outputs": [],
   "source": [
    "t = pd.read_csv('teams_world_cup_22.csv')"
   ]
  },
  {
   "cell_type": "code",
   "execution_count": 47,
   "id": "5a3d9e4e",
   "metadata": {},
   "outputs": [],
   "source": [
    "teams_22 = ['Qatar', 'Ecuador', 'Senegal', 'Netherlands',\n",
    "            'England', 'Iran','United States','Wales',\n",
    "           'Argentina','Saudi Arabia','Mexico','Poland',\n",
    "           'France','Australia','Denmark','Tunisia',\n",
    "           'Spain', 'Costa Rica','Germany','Japan',\n",
    "            'Belgium','Canada', 'Morocco','Croatia',\n",
    "            'Brazil', 'Serbia', 'Switzerland', 'Cameroon',\n",
    "            'Portugal', 'Ghana', 'Uruguay', 'South Korea']"
   ]
  },
  {
   "cell_type": "code",
   "execution_count": 56,
   "id": "28ee37f7",
   "metadata": {},
   "outputs": [],
   "source": [
    "teams_world_cup_22 = t[(t['Team'].isin(teams_22)) & (t['Team Against'].isin(teams_22))]"
   ]
  },
  {
   "cell_type": "markdown",
   "id": "b15fc386",
   "metadata": {},
   "source": [
    "# Analyzing Spains' results "
   ]
  },
  {
   "cell_type": "code",
   "execution_count": 164,
   "id": "a29bf71f",
   "metadata": {},
   "outputs": [],
   "source": [
    "spain = t[t.Team == 'Spain']"
   ]
  },
  {
   "cell_type": "code",
   "execution_count": 188,
   "id": "d5ab721b",
   "metadata": {},
   "outputs": [],
   "source": [
    "def results(df):\n",
    "    df_results = df.groupby(['Team Against','Result']).agg({'Result':'count'}).rename(columns={'Result':'Matches'}).reset_index()\n",
    "    df_results = df_results.pivot_table('Matches','Team Against','Result', fill_value=0)\n",
    "    return df_results"
   ]
  },
  {
   "cell_type": "code",
   "execution_count": 166,
   "id": "ee8e44d9",
   "metadata": {},
   "outputs": [],
   "source": [
    "spain_results = spain.groupby([\n",
    "    'Team Against','Result']).agg({'Result':'count'}).rename(columns={'Result':'Matches'}).reset_index()"
   ]
  },
  {
   "cell_type": "code",
   "execution_count": 167,
   "id": "c6cd56c4",
   "metadata": {},
   "outputs": [],
   "source": [
    "spain_results = spain_results.pivot_table('Matches','Team Against','Result', fill_value=0)"
   ]
  },
  {
   "cell_type": "code",
   "execution_count": 168,
   "id": "4774aa1f",
   "metadata": {},
   "outputs": [],
   "source": [
    "spain_goals = spain.groupby([\n",
    "    'Team Against']).agg({'Home Goals':'sum',\n",
    "                                   'Against Goals':'sum'})"
   ]
  },
  {
   "cell_type": "code",
   "execution_count": 169,
   "id": "1e1e725c",
   "metadata": {},
   "outputs": [],
   "source": [
    "spain_results.to_csv('C:\\\\Users\\\\juanp\\\\proyectos_varios\\\\world_cup\\\\spain_results.csv')"
   ]
  },
  {
   "cell_type": "code",
   "execution_count": 170,
   "id": "8d9a7529",
   "metadata": {},
   "outputs": [
    {
     "data": {
      "text/plain": [
       "(14, 8)"
      ]
     },
     "execution_count": 170,
     "metadata": {},
     "output_type": "execute_result"
    }
   ],
   "source": [
    "country_vs('Argentina', 'Spain').shape"
   ]
  },
  {
   "cell_type": "code",
   "execution_count": 128,
   "id": "5c1cb54d",
   "metadata": {},
   "outputs": [],
   "source": [
    "# s = spain_results.div(spain_results.sum(axis=1),axis=0) --> maybe I can obtain the same result directly in tableau and keep the total"
   ]
  },
  {
   "cell_type": "markdown",
   "id": "b01be480",
   "metadata": {},
   "source": [
    "# How was Spain's performance in previous World Cups?"
   ]
  },
  {
   "cell_type": "code",
   "execution_count": 173,
   "id": "dadf58f6",
   "metadata": {},
   "outputs": [],
   "source": [
    "a = list(world_cup_matches['Stage'].unique())"
   ]
  },
  {
   "cell_type": "code",
   "execution_count": 179,
   "id": "bfd8c7fd",
   "metadata": {},
   "outputs": [],
   "source": [
    "spain_wc =spain[spain['Stage'].isin(a)]"
   ]
  },
  {
   "cell_type": "code",
   "execution_count": 190,
   "id": "9b4fbb72",
   "metadata": {},
   "outputs": [],
   "source": [
    "spain_wc = results(spain_wc)"
   ]
  },
  {
   "cell_type": "code",
   "execution_count": 192,
   "id": "bedc0237",
   "metadata": {},
   "outputs": [],
   "source": [
    "spain_wc.to_csv('C:\\\\Users\\\\juanp\\\\proyectos_varios\\\\world_cup\\\\spain_wc.csv')"
   ]
  },
  {
   "cell_type": "code",
   "execution_count": null,
   "id": "fb96fc0d",
   "metadata": {},
   "outputs": [],
   "source": []
  }
 ],
 "metadata": {
  "kernelspec": {
   "display_name": "Python 3 (ipykernel)",
   "language": "python",
   "name": "python3"
  },
  "language_info": {
   "codemirror_mode": {
    "name": "ipython",
    "version": 3
   },
   "file_extension": ".py",
   "mimetype": "text/x-python",
   "name": "python",
   "nbconvert_exporter": "python",
   "pygments_lexer": "ipython3",
   "version": "3.11.0"
  }
 },
 "nbformat": 4,
 "nbformat_minor": 5
}
