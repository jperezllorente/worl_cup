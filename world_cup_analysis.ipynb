{
 "cells": [
  {
   "cell_type": "code",
   "execution_count": 119,
   "id": "50829823",
   "metadata": {},
   "outputs": [],
   "source": [
    "import pandas as pd\n",
    "import regex as re\n",
    "import numpy as np"
   ]
  },
  {
   "cell_type": "code",
   "execution_count": 47,
   "id": "ab2bc8b0",
   "metadata": {},
   "outputs": [],
   "source": [
    "groups_22 = pd.read_csv('2022_world_cup_groups.csv')"
   ]
  },
  {
   "cell_type": "code",
   "execution_count": 48,
   "id": "069b4a3f",
   "metadata": {},
   "outputs": [],
   "source": [
    "matches_22 = pd.read_csv('2022_world_cup_matches.csv')"
   ]
  },
  {
   "cell_type": "code",
   "execution_count": 49,
   "id": "4c5ceff1",
   "metadata": {},
   "outputs": [],
   "source": [
    "data_dict = pd.read_csv('data_dictionary.csv') ## -> fields description"
   ]
  },
  {
   "cell_type": "code",
   "execution_count": 134,
   "id": "956f6b42",
   "metadata": {},
   "outputs": [],
   "source": [
    "international_matches = pd.read_csv('international_matches.csv')\n",
    "international_matches.drop(columns={'ID'}, inplace= True)\n",
    "international_matches.isnull().sum() #Win conditions have null values when matches have ended normally\n",
    "international_matches['Win Conditions'] = international_matches['Win Conditions'].fillna('normal ending')"
   ]
  },
  {
   "cell_type": "code",
   "execution_count": 135,
   "id": "bbe4811c",
   "metadata": {},
   "outputs": [],
   "source": [
    "international_matches.rename(columns={\"Tournament\":\"Stage\",\"Home Stadium\":\"Host Team\"},inplace = True)"
   ]
  },
  {
   "cell_type": "code",
   "execution_count": 136,
   "id": "799e2af5",
   "metadata": {},
   "outputs": [],
   "source": [
    "col_list = list(international_matches)"
   ]
  },
  {
   "cell_type": "code",
   "execution_count": 137,
   "id": "f0746dc4",
   "metadata": {},
   "outputs": [],
   "source": [
    "international_matches = international_matches.reindex(columns=['Date','Stage','Home Team','Home Goals',\n",
    "                                                               'Away Goals','Away Team','Win Conditions','Host Team'])"
   ]
  },
  {
   "cell_type": "code",
   "execution_count": 138,
   "id": "ec0545fe",
   "metadata": {},
   "outputs": [],
   "source": [
    "world_cup_matches = pd.read_csv('world_cup_matches.csv')\n",
    "world_cup_matches.drop(columns={'ID'}, inplace= True)\n",
    "world_cup_matches.isnull().sum() #Win conditions have null values when matches have ended normally\n",
    "world_cup_matches['Win Conditions'] = world_cup_matches['Win Conditions'].fillna('normal ending')"
   ]
  },
  {
   "cell_type": "code",
   "execution_count": 139,
   "id": "cb2d3736",
   "metadata": {},
   "outputs": [],
   "source": [
    "world_cup_matches.drop(columns={'Year'},inplace=True)"
   ]
  },
  {
   "cell_type": "markdown",
   "id": "c7d4e47b",
   "metadata": {},
   "source": [
    "## Football History of Spain"
   ]
  },
  {
   "cell_type": "code",
   "execution_count": 140,
   "id": "5053688a",
   "metadata": {},
   "outputs": [],
   "source": [
    "spain_international_matches = international_matches[(international_matches['Home Team']=='Spain') | (international_matches['Away Team']=='Spain')]"
   ]
  },
  {
   "cell_type": "code",
   "execution_count": 141,
   "id": "b5d0ccd2",
   "metadata": {},
   "outputs": [],
   "source": [
    "def find_winner(row):\n",
    "    # This functions will return if Spain either won or lost a match \n",
    "    if row['Home Team']=='Spain' and(row['Home Goals'] > row['Away Goals']):\n",
    "        return 'Win'\n",
    "    elif row['Away Team'] == 'Spain' and (row['Home Goals'] < row['Away Goals']):\n",
    "        return 'Win'\n",
    "    elif row['Win Conditions'] == 'Spain win on penalties':\n",
    "        return 'Win'\n",
    "    else:\n",
    "        return 'Loss'"
   ]
  },
  {
   "cell_type": "code",
   "execution_count": 142,
   "id": "e606259e",
   "metadata": {},
   "outputs": [
    {
     "name": "stderr",
     "output_type": "stream",
     "text": [
      "C:\\Users\\juanp\\AppData\\Local\\Temp\\ipykernel_19784\\3073436608.py:1: SettingWithCopyWarning: \n",
      "A value is trying to be set on a copy of a slice from a DataFrame.\n",
      "Try using .loc[row_indexer,col_indexer] = value instead\n",
      "\n",
      "See the caveats in the documentation: https://pandas.pydata.org/pandas-docs/stable/user_guide/indexing.html#returning-a-view-versus-a-copy\n",
      "  spain_international_matches['Result'] = spain_international_matches.apply(lambda row: find_winner(row), axis=1)\n"
     ]
    }
   ],
   "source": [
    "spain_international_matches['Result'] = spain_international_matches.apply(lambda row: find_winner(row), axis=1)"
   ]
  },
  {
   "cell_type": "code",
   "execution_count": 143,
   "id": "b691e7ae",
   "metadata": {},
   "outputs": [],
   "source": [
    "spain_world_cup_matches = world_cup_matches[(world_cup_matches['Home Team']=='Spain') | (world_cup_matches['Away Team']=='Spain')]"
   ]
  },
  {
   "cell_type": "code",
   "execution_count": 144,
   "id": "08b7638b",
   "metadata": {},
   "outputs": [
    {
     "name": "stderr",
     "output_type": "stream",
     "text": [
      "C:\\Users\\juanp\\AppData\\Local\\Temp\\ipykernel_19784\\2650079529.py:1: SettingWithCopyWarning: \n",
      "A value is trying to be set on a copy of a slice from a DataFrame.\n",
      "Try using .loc[row_indexer,col_indexer] = value instead\n",
      "\n",
      "See the caveats in the documentation: https://pandas.pydata.org/pandas-docs/stable/user_guide/indexing.html#returning-a-view-versus-a-copy\n",
      "  spain_world_cup_matches['Result'] =  spain_world_cup_matches.apply(lambda row: find_winner(row), axis=1)\n"
     ]
    }
   ],
   "source": [
    "spain_world_cup_matches['Result'] =  spain_world_cup_matches.apply(lambda row: find_winner(row), axis=1)"
   ]
  },
  {
   "cell_type": "code",
   "execution_count": 145,
   "id": "b2aced36",
   "metadata": {},
   "outputs": [],
   "source": [
    "spain_history_matches = pd.concat([spain_international_matches, spain_world_cup_matches], ignore_index=True)"
   ]
  },
  {
   "cell_type": "code",
   "execution_count": 146,
   "id": "2ee8884d",
   "metadata": {},
   "outputs": [
    {
     "name": "stderr",
     "output_type": "stream",
     "text": [
      "C:\\Users\\juanp\\AppData\\Local\\Temp\\ipykernel_19784\\3237819519.py:1: SettingWithCopyWarning: \n",
      "A value is trying to be set on a copy of a slice from a DataFrame\n",
      "\n",
      "See the caveats in the documentation: https://pandas.pydata.org/pandas-docs/stable/user_guide/indexing.html#returning-a-view-versus-a-copy\n",
      "  spain_history_matches['Win Conditions'].loc[spain_history_matches[\"Win Conditions\"].str.contains(\"penalties\")]=\"penalties\"\n"
     ]
    }
   ],
   "source": [
    "spain_history_matches['Win Conditions'].loc[spain_history_matches[\"Win Conditions\"].str.contains(\"penalties\")]=\"penalties\"\n",
    "# The Win Condition for penalties includes the winner, but to simplify it I'm going to replace with just penalties "
   ]
  },
  {
   "cell_type": "code",
   "execution_count": 147,
   "id": "2ebd7db2",
   "metadata": {},
   "outputs": [],
   "source": [
    "spain_history_matches.to_excel('C:\\\\Users\\\\juanp\\\\proyectos_varios\\\\world_cup\\\\spain_history_matches.xlsx')"
   ]
  },
  {
   "cell_type": "code",
   "execution_count": 148,
   "id": "a62b103f",
   "metadata": {},
   "outputs": [],
   "source": [
    "def goals_favor(row):\n",
    "    if row['Home Team'] == 'Spain':\n",
    "        return row['Home Goals']\n",
    "    elif row['Away Team'] == 'Spain':\n",
    "        return row['Away Goals']"
   ]
  },
  {
   "cell_type": "code",
   "execution_count": 149,
   "id": "476faba7",
   "metadata": {},
   "outputs": [],
   "source": [
    "def goals_against(row):\n",
    "    if row['Home Team'] != 'Spain':\n",
    "        return row['Home Goals']\n",
    "    elif row['Away Team'] != 'Spain':\n",
    "        return row['Away Goals']"
   ]
  },
  {
   "cell_type": "code",
   "execution_count": 150,
   "id": "c3e80a4a",
   "metadata": {},
   "outputs": [],
   "source": [
    "conditions = [\n",
    "    (spain_history_matches['Home Team'] != 'Spain'),\n",
    "    (spain_history_matches['Away Team'] != 'Spain')\n",
    "]"
   ]
  },
  {
   "cell_type": "code",
   "execution_count": 151,
   "id": "d2a0fedf",
   "metadata": {},
   "outputs": [],
   "source": [
    "values = [spain_history_matches['Home Team'],spain_history_matches['Away Team'] ]"
   ]
  },
  {
   "cell_type": "code",
   "execution_count": 152,
   "id": "f886c776",
   "metadata": {},
   "outputs": [],
   "source": [
    "spain_history_matches['against_team'] = np.select(conditions, values)"
   ]
  },
  {
   "cell_type": "code",
   "execution_count": 153,
   "id": "552f2d38",
   "metadata": {},
   "outputs": [],
   "source": [
    "spain_history_matches['against_goals'] = spain_history_matches.apply(lambda row: goals_against(row), axis =1)"
   ]
  },
  {
   "cell_type": "code",
   "execution_count": 154,
   "id": "a4590464",
   "metadata": {},
   "outputs": [],
   "source": [
    "spain_history_matches['favor_goals'] = spain_history_matches.apply(lambda row: goals_favor(row), axis =1)"
   ]
  },
  {
   "cell_type": "code",
   "execution_count": 155,
   "id": "2df3b399",
   "metadata": {},
   "outputs": [],
   "source": [
    "spain_history_matches.drop(columns={'Home Team','Home Goals','Away Goals','Away Team'},inplace = True)"
   ]
  },
  {
   "cell_type": "code",
   "execution_count": 156,
   "id": "2918a0c9",
   "metadata": {},
   "outputs": [
    {
     "data": {
      "text/plain": [
       "['Date',\n",
       " 'Stage',\n",
       " 'Win Conditions',\n",
       " 'Host Team',\n",
       " 'Result',\n",
       " 'against_team',\n",
       " 'against_goals',\n",
       " 'favor_goals']"
      ]
     },
     "execution_count": 156,
     "metadata": {},
     "output_type": "execute_result"
    }
   ],
   "source": [
    "list(spain_history_matches)"
   ]
  },
  {
   "cell_type": "code",
   "execution_count": 132,
   "id": "3378e625",
   "metadata": {},
   "outputs": [],
   "source": [
    "spain_history_matches= spain_history_matches.reindex(columns=['Date','Stage','Win Conditions','Host Team',\n",
    "                                       'against_team' 'Result', 'favor_goals', 'agains_goals'])"
   ]
  },
  {
   "cell_type": "code",
   "execution_count": null,
   "id": "ee825850",
   "metadata": {},
   "outputs": [],
   "source": []
  }
 ],
 "metadata": {
  "kernelspec": {
   "display_name": "Python 3 (ipykernel)",
   "language": "python",
   "name": "python3"
  },
  "language_info": {
   "codemirror_mode": {
    "name": "ipython",
    "version": 3
   },
   "file_extension": ".py",
   "mimetype": "text/x-python",
   "name": "python",
   "nbconvert_exporter": "python",
   "pygments_lexer": "ipython3",
   "version": "3.11.0"
  }
 },
 "nbformat": 4,
 "nbformat_minor": 5
}
