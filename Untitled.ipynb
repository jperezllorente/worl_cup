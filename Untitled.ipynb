{
 "cells": [
  {
   "cell_type": "code",
   "execution_count": 1,
   "id": "50829823",
   "metadata": {},
   "outputs": [],
   "source": [
    "import pandas as pd\n",
    "import regex as re"
   ]
  },
  {
   "cell_type": "code",
   "execution_count": 2,
   "id": "ab2bc8b0",
   "metadata": {},
   "outputs": [],
   "source": [
    "groups_22 = pd.read_csv('2022_world_cup_groups.csv')"
   ]
  },
  {
   "cell_type": "code",
   "execution_count": 3,
   "id": "069b4a3f",
   "metadata": {},
   "outputs": [],
   "source": [
    "matches_22 = pd.read_csv('2022_world_cup_matches.csv')"
   ]
  },
  {
   "cell_type": "code",
   "execution_count": 4,
   "id": "4c5ceff1",
   "metadata": {},
   "outputs": [],
   "source": [
    "data_dict = pd.read_csv('data_dictionary.csv') ## -> fields description"
   ]
  },
  {
   "cell_type": "code",
   "execution_count": 5,
   "id": "956f6b42",
   "metadata": {},
   "outputs": [],
   "source": [
    "international_matches = pd.read_csv('international_matches.csv')\n",
    "international_matches.isnull().sum() #Win conditions have null values when matches have ended normally\n",
    "international_matches['Win Conditions'] = international_matches['Win Conditions'].fillna('normal ending')"
   ]
  },
  {
   "cell_type": "code",
   "execution_count": 6,
   "id": "bbe4811c",
   "metadata": {},
   "outputs": [],
   "source": [
    "international_matches.rename(columns={\"Tournament\":\"Stage\",\"Home Stadium\":\"Host Team\"},inplace = True)"
   ]
  },
  {
   "cell_type": "code",
   "execution_count": 7,
   "id": "799e2af5",
   "metadata": {},
   "outputs": [],
   "source": [
    "col_list = list(international_matches)"
   ]
  },
  {
   "cell_type": "code",
   "execution_count": 10,
   "id": "f0746dc4",
   "metadata": {},
   "outputs": [],
   "source": [
    "international_matches = international_matches.reindex(columns=['ID','Date','Stage','Home Team','Home Goals',\n",
    "                                                               'Away Goals','Away Team','Win Conditions','Host Team'])"
   ]
  },
  {
   "cell_type": "code",
   "execution_count": 11,
   "id": "ec0545fe",
   "metadata": {},
   "outputs": [],
   "source": [
    "world_cup_matches = pd.read_csv('world_cup_matches.csv')\n",
    "world_cup_matches.isnull().sum() #Win conditions have null values when matches have ended normally\n",
    "world_cup_matches['Win Conditions'] = world_cup_matches['Win Conditions'].fillna('normal ending')"
   ]
  },
  {
   "cell_type": "code",
   "execution_count": 12,
   "id": "cb2d3736",
   "metadata": {},
   "outputs": [],
   "source": [
    "world_cup_matches.drop(columns={'Year'},inplace=True)"
   ]
  },
  {
   "cell_type": "markdown",
   "id": "c7d4e47b",
   "metadata": {},
   "source": [
    "## Football History of Spain"
   ]
  },
  {
   "cell_type": "code",
   "execution_count": 13,
   "id": "5053688a",
   "metadata": {},
   "outputs": [],
   "source": [
    "spain_international_matches = international_matches[(international_matches['Home Team']=='Spain') | (international_matches['Away Team']=='Spain')]"
   ]
  },
  {
   "cell_type": "code",
   "execution_count": 14,
   "id": "b5d0ccd2",
   "metadata": {},
   "outputs": [],
   "source": [
    "def find_winner(row):\n",
    "    if row['Home Team']=='Spain' and(row['Home Goals'] > row['Away Goals']):\n",
    "        return 'Win'\n",
    "    elif row['Away Team'] == 'Spain' and (row['Home Goals'] < row['Away Goals']):\n",
    "        return 'Win'\n",
    "    elif row['Win Conditions'] == 'Spain win on penalties':\n",
    "        return 'Win'\n",
    "    else:\n",
    "        return 'Loss'"
   ]
  },
  {
   "cell_type": "code",
   "execution_count": 15,
   "id": "e606259e",
   "metadata": {},
   "outputs": [
    {
     "name": "stderr",
     "output_type": "stream",
     "text": [
      "C:\\Users\\juanp\\AppData\\Local\\Temp\\ipykernel_21376\\3073436608.py:1: SettingWithCopyWarning: \n",
      "A value is trying to be set on a copy of a slice from a DataFrame.\n",
      "Try using .loc[row_indexer,col_indexer] = value instead\n",
      "\n",
      "See the caveats in the documentation: https://pandas.pydata.org/pandas-docs/stable/user_guide/indexing.html#returning-a-view-versus-a-copy\n",
      "  spain_international_matches['Result'] = spain_international_matches.apply(lambda row: find_winner(row), axis=1)\n"
     ]
    }
   ],
   "source": [
    "spain_international_matches['Result'] = spain_international_matches.apply(lambda row: find_winner(row), axis=1)"
   ]
  },
  {
   "cell_type": "code",
   "execution_count": 16,
   "id": "b691e7ae",
   "metadata": {},
   "outputs": [],
   "source": [
    "spain_world_cup_matches = world_cup_matches[(world_cup_matches['Home Team']=='Spain') | (world_cup_matches['Away Team']=='Spain')]"
   ]
  },
  {
   "cell_type": "code",
   "execution_count": 17,
   "id": "08b7638b",
   "metadata": {},
   "outputs": [
    {
     "name": "stderr",
     "output_type": "stream",
     "text": [
      "C:\\Users\\juanp\\AppData\\Local\\Temp\\ipykernel_21376\\2650079529.py:1: SettingWithCopyWarning: \n",
      "A value is trying to be set on a copy of a slice from a DataFrame.\n",
      "Try using .loc[row_indexer,col_indexer] = value instead\n",
      "\n",
      "See the caveats in the documentation: https://pandas.pydata.org/pandas-docs/stable/user_guide/indexing.html#returning-a-view-versus-a-copy\n",
      "  spain_world_cup_matches['Result'] =  spain_world_cup_matches.apply(lambda row: find_winner(row), axis=1)\n"
     ]
    }
   ],
   "source": [
    "spain_world_cup_matches['Result'] =  spain_world_cup_matches.apply(lambda row: find_winner(row), axis=1)"
   ]
  },
  {
   "cell_type": "code",
   "execution_count": 20,
   "id": "b2aced36",
   "metadata": {},
   "outputs": [],
   "source": [
    "spain_history_matches = pd.concat([spain_international_matches, spain_world_cup_matches], ignore_index=True)"
   ]
  },
  {
   "cell_type": "code",
   "execution_count": 21,
   "id": "527d5c08",
   "metadata": {},
   "outputs": [
    {
     "data": {
      "text/html": [
       "<div>\n",
       "<style scoped>\n",
       "    .dataframe tbody tr th:only-of-type {\n",
       "        vertical-align: middle;\n",
       "    }\n",
       "\n",
       "    .dataframe tbody tr th {\n",
       "        vertical-align: top;\n",
       "    }\n",
       "\n",
       "    .dataframe thead th {\n",
       "        text-align: right;\n",
       "    }\n",
       "</style>\n",
       "<table border=\"1\" class=\"dataframe\">\n",
       "  <thead>\n",
       "    <tr style=\"text-align: right;\">\n",
       "      <th></th>\n",
       "      <th>ID</th>\n",
       "      <th>Date</th>\n",
       "      <th>Stage</th>\n",
       "      <th>Home Team</th>\n",
       "      <th>Home Goals</th>\n",
       "      <th>Away Goals</th>\n",
       "      <th>Away Team</th>\n",
       "      <th>Win Conditions</th>\n",
       "      <th>Host Team</th>\n",
       "      <th>Result</th>\n",
       "    </tr>\n",
       "  </thead>\n",
       "  <tbody>\n",
       "    <tr>\n",
       "      <th>0</th>\n",
       "      <td>467</td>\n",
       "      <td>1921-12-18</td>\n",
       "      <td>Friendly</td>\n",
       "      <td>Spain</td>\n",
       "      <td>3</td>\n",
       "      <td>1</td>\n",
       "      <td>Portugal</td>\n",
       "      <td>normal ending</td>\n",
       "      <td>True</td>\n",
       "      <td>Win</td>\n",
       "    </tr>\n",
       "    <tr>\n",
       "      <th>1</th>\n",
       "      <td>477</td>\n",
       "      <td>1922-04-30</td>\n",
       "      <td>Friendly</td>\n",
       "      <td>France</td>\n",
       "      <td>0</td>\n",
       "      <td>4</td>\n",
       "      <td>Spain</td>\n",
       "      <td>normal ending</td>\n",
       "      <td>True</td>\n",
       "      <td>Win</td>\n",
       "    </tr>\n",
       "    <tr>\n",
       "      <th>2</th>\n",
       "      <td>513</td>\n",
       "      <td>1922-12-17</td>\n",
       "      <td>Friendly</td>\n",
       "      <td>Portugal</td>\n",
       "      <td>1</td>\n",
       "      <td>2</td>\n",
       "      <td>Spain</td>\n",
       "      <td>normal ending</td>\n",
       "      <td>True</td>\n",
       "      <td>Win</td>\n",
       "    </tr>\n",
       "    <tr>\n",
       "      <th>3</th>\n",
       "      <td>519</td>\n",
       "      <td>1923-01-28</td>\n",
       "      <td>Friendly</td>\n",
       "      <td>Spain</td>\n",
       "      <td>3</td>\n",
       "      <td>0</td>\n",
       "      <td>France</td>\n",
       "      <td>normal ending</td>\n",
       "      <td>True</td>\n",
       "      <td>Win</td>\n",
       "    </tr>\n",
       "    <tr>\n",
       "      <th>4</th>\n",
       "      <td>520</td>\n",
       "      <td>1923-02-04</td>\n",
       "      <td>Friendly</td>\n",
       "      <td>Belgium</td>\n",
       "      <td>1</td>\n",
       "      <td>0</td>\n",
       "      <td>Spain</td>\n",
       "      <td>normal ending</td>\n",
       "      <td>True</td>\n",
       "      <td>Loss</td>\n",
       "    </tr>\n",
       "    <tr>\n",
       "      <th>...</th>\n",
       "      <td>...</td>\n",
       "      <td>...</td>\n",
       "      <td>...</td>\n",
       "      <td>...</td>\n",
       "      <td>...</td>\n",
       "      <td>...</td>\n",
       "      <td>...</td>\n",
       "      <td>...</td>\n",
       "      <td>...</td>\n",
       "      <td>...</td>\n",
       "    </tr>\n",
       "    <tr>\n",
       "      <th>723</th>\n",
       "      <td>805</td>\n",
       "      <td>2014-06-23</td>\n",
       "      <td>Group stage</td>\n",
       "      <td>Australia</td>\n",
       "      <td>0</td>\n",
       "      <td>3</td>\n",
       "      <td>Spain</td>\n",
       "      <td>normal ending</td>\n",
       "      <td>False</td>\n",
       "      <td>Win</td>\n",
       "    </tr>\n",
       "    <tr>\n",
       "      <th>724</th>\n",
       "      <td>840</td>\n",
       "      <td>2018-06-15</td>\n",
       "      <td>Group stage</td>\n",
       "      <td>Portugal</td>\n",
       "      <td>3</td>\n",
       "      <td>3</td>\n",
       "      <td>Spain</td>\n",
       "      <td>normal ending</td>\n",
       "      <td>False</td>\n",
       "      <td>Loss</td>\n",
       "    </tr>\n",
       "    <tr>\n",
       "      <th>725</th>\n",
       "      <td>856</td>\n",
       "      <td>2018-06-20</td>\n",
       "      <td>Group stage</td>\n",
       "      <td>Iran</td>\n",
       "      <td>0</td>\n",
       "      <td>1</td>\n",
       "      <td>Spain</td>\n",
       "      <td>normal ending</td>\n",
       "      <td>False</td>\n",
       "      <td>Win</td>\n",
       "    </tr>\n",
       "    <tr>\n",
       "      <th>726</th>\n",
       "      <td>871</td>\n",
       "      <td>2018-06-25</td>\n",
       "      <td>Group stage</td>\n",
       "      <td>Spain</td>\n",
       "      <td>2</td>\n",
       "      <td>2</td>\n",
       "      <td>Morocco</td>\n",
       "      <td>normal ending</td>\n",
       "      <td>False</td>\n",
       "      <td>Loss</td>\n",
       "    </tr>\n",
       "    <tr>\n",
       "      <th>727</th>\n",
       "      <td>887</td>\n",
       "      <td>2018-07-01</td>\n",
       "      <td>Round of 16</td>\n",
       "      <td>Russia</td>\n",
       "      <td>1</td>\n",
       "      <td>1</td>\n",
       "      <td>Spain</td>\n",
       "      <td>Russia win on penalties (4 - 3)</td>\n",
       "      <td>True</td>\n",
       "      <td>Loss</td>\n",
       "    </tr>\n",
       "  </tbody>\n",
       "</table>\n",
       "<p>728 rows × 10 columns</p>\n",
       "</div>"
      ],
      "text/plain": [
       "      ID        Date        Stage  Home Team  Home Goals  Away Goals  \\\n",
       "0    467  1921-12-18     Friendly      Spain           3           1   \n",
       "1    477  1922-04-30     Friendly     France           0           4   \n",
       "2    513  1922-12-17     Friendly   Portugal           1           2   \n",
       "3    519  1923-01-28     Friendly      Spain           3           0   \n",
       "4    520  1923-02-04     Friendly    Belgium           1           0   \n",
       "..   ...         ...          ...        ...         ...         ...   \n",
       "723  805  2014-06-23  Group stage  Australia           0           3   \n",
       "724  840  2018-06-15  Group stage   Portugal           3           3   \n",
       "725  856  2018-06-20  Group stage       Iran           0           1   \n",
       "726  871  2018-06-25  Group stage      Spain           2           2   \n",
       "727  887  2018-07-01  Round of 16     Russia           1           1   \n",
       "\n",
       "    Away Team                   Win Conditions  Host Team Result  \n",
       "0    Portugal                    normal ending       True    Win  \n",
       "1       Spain                    normal ending       True    Win  \n",
       "2       Spain                    normal ending       True    Win  \n",
       "3      France                    normal ending       True    Win  \n",
       "4       Spain                    normal ending       True   Loss  \n",
       "..        ...                              ...        ...    ...  \n",
       "723     Spain                    normal ending      False    Win  \n",
       "724     Spain                    normal ending      False   Loss  \n",
       "725     Spain                    normal ending      False    Win  \n",
       "726   Morocco                    normal ending      False   Loss  \n",
       "727     Spain  Russia win on penalties (4 - 3)       True   Loss  \n",
       "\n",
       "[728 rows x 10 columns]"
      ]
     },
     "execution_count": 21,
     "metadata": {},
     "output_type": "execute_result"
    }
   ],
   "source": [
    "spain_history_matches"
   ]
  },
  {
   "cell_type": "code",
   "execution_count": null,
   "id": "4fdfe5f3",
   "metadata": {},
   "outputs": [],
   "source": []
  },
  {
   "cell_type": "code",
   "execution_count": null,
   "id": "2ebd7db2",
   "metadata": {},
   "outputs": [],
   "source": []
  },
  {
   "cell_type": "code",
   "execution_count": null,
   "id": "5144d16b",
   "metadata": {},
   "outputs": [],
   "source": []
  }
 ],
 "metadata": {
  "kernelspec": {
   "display_name": "Python 3 (ipykernel)",
   "language": "python",
   "name": "python3"
  },
  "language_info": {
   "codemirror_mode": {
    "name": "ipython",
    "version": 3
   },
   "file_extension": ".py",
   "mimetype": "text/x-python",
   "name": "python",
   "nbconvert_exporter": "python",
   "pygments_lexer": "ipython3",
   "version": "3.11.0"
  }
 },
 "nbformat": 4,
 "nbformat_minor": 5
}
